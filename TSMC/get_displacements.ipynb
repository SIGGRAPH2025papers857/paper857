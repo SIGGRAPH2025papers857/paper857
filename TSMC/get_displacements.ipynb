{
 "cells": [
  {
   "metadata": {
    "ExecuteTime": {
     "end_time": "2025-01-13T21:20:50.841147Z",
     "start_time": "2025-01-13T21:20:50.042311Z"
    }
   },
   "cell_type": "code",
   "source": [
    "from copy import deepcopy\n",
    "import subprocess\n",
    "import numpy as np\n",
    "import open3d as o3d\n",
    "import trimesh\n",
    "import os\n",
    "import time\n",
    "print(o3d.__version__)"
   ],
   "id": "a350f3c628eeb3e1",
   "outputs": [
    {
     "name": "stdout",
     "output_type": "stream",
     "text": [
      "Jupyter environment detected. Enabling Open3D WebVisualizer.\n",
      "[Open3D INFO] WebRTC GUI backend enabled.\n",
      "[Open3D INFO] WebRTCWindowSystem: HTTP handshake server disabled.\n",
      "0.18.0\n"
     ]
    }
   ],
   "execution_count": 1
  },
  {
   "metadata": {
    "ExecuteTime": {
     "end_time": "2025-01-13T21:20:51.382814Z",
     "start_time": "2025-01-13T21:20:51.367701Z"
    }
   },
   "cell_type": "code",
   "source": [
    "def subdivide_surface_fitting(decimated_mesh, target_mesh, iterations=1):\n",
    "    subdivided_mesh = o3d.geometry.TriangleMesh.subdivide_midpoint(decimated_mesh, number_of_iterations=iterations)\n",
    "    print(subdivided_mesh)\n",
    "    subdivided_mesh.compute_vertex_normals()\n",
    "    \n",
    "    pcd_target = o3d.geometry.PointCloud()\n",
    "    pcd_target.points = o3d.utility.Vector3dVector(target_mesh.vertices)\n",
    "    pcd_tree = o3d.geometry.KDTreeFlann(pcd_target)\n",
    "    subdivided_vertices = np.array(subdivided_mesh.vertices)\n",
    "    target_vertices = np.array(target_mesh.vertices)\n",
    "    fitting_vertices = deepcopy(subdivided_vertices)\n",
    "    \n",
    "    for i in range(0, len(subdivided_vertices)):\n",
    "        [k, index, _] = pcd_tree.search_knn_vector_3d(subdivided_vertices[i], 1)\n",
    "        fitting_vertices[i] = target_vertices[index[0]]\n",
    "\n",
    "    subdivided_mesh.vertices = o3d.utility.Vector3dVector(fitting_vertices)\n",
    "    return subdivided_mesh"
   ],
   "id": "4dbbbf858342382f",
   "outputs": [],
   "execution_count": 2
  },
  {
   "metadata": {
    "ExecuteTime": {
     "end_time": "2025-01-13T21:59:32.790493Z",
     "start_time": "2025-01-13T21:59:32.780739Z"
    }
   },
   "cell_type": "code",
   "source": [
    "def read_triangle_mesh_with_trimesh(avatar_name,enable_post_processing=False):\n",
    "    # EDIT: next 4 lines replace to maintain order even in case of degenerate and non referenced\n",
    "    # scene_patch = trimesh.load(avatar_name,process=enable_post_processing)\n",
    "    if enable_post_processing:\n",
    "        scene_patch = trimesh.load(avatar_name,process=True)\n",
    "    else:\n",
    "        scene_patch = trimesh.load(avatar_name,process=False,maintain_order=True) \n",
    "    mesh = o3d.geometry.TriangleMesh(\n",
    "        o3d.utility.Vector3dVector(scene_patch.vertices),\n",
    "        o3d.utility.Vector3iVector(scene_patch.faces)\n",
    "    ) \n",
    "    if scene_patch.vertex_normals.size:\n",
    "        mesh.vertex_normals = o3d.utility.Vector3dVector(scene_patch.vertex_normals.copy())\n",
    "    if scene_patch.visual.defined:\n",
    "        # either texture or vertex colors if no uvs present.\n",
    "        if scene_patch.visual.kind == 'vertex':\n",
    "            mesh.vertex_colors = o3d.utility.Vector3dVector(scene_patch.visual.vertex_colors[:,:3]/255) # no alpha channel support\n",
    "        elif scene_patch.visual.kind == 'texture':\n",
    "            uv = scene_patch.visual.uv\n",
    "            if uv.shape[0] == scene_patch.vertices.shape[0]:\n",
    "                mesh.triangle_uvs = o3d.utility.Vector2dVector(uv[scene_patch.faces.flatten()])\n",
    "            elif uv.shape[0] != scene_patch.faces.shape[0] * 3:\n",
    "                assert False\n",
    "            else:\n",
    "                mesh.triangle_uvs = o3d.utility.Vector2dVector(uv)\n",
    "                if scene_patch.visual.material is not None and scene_patch.visual.material.image is not None:\n",
    "                    if scene_patch.visual.material.image.mode == 'RGB':\n",
    "                        mesh.textures = [o3d.geometry.Image(np.asarray(scene_patch.visual.material.image))]\n",
    "                    else:\n",
    "                        assert False\n",
    "        else:\n",
    "            assert False\n",
    "    return mesh"
   ],
   "id": "2c61b469518821a0",
   "outputs": [],
   "execution_count": 16
  },
  {
   "metadata": {
    "ExecuteTime": {
     "end_time": "2025-01-13T23:05:23.711693Z",
     "start_time": "2025-01-13T23:05:21.147820Z"
    }
   },
   "cell_type": "code",
   "source": [
    "GoF = 2\n",
    "offset = 1\n",
    "for i in range(0, 9):\n",
    "    dynamic_deformed = o3d.io.read_triangle_mesh(fr'G:\\VS2022Projects\\tvm-editing\\TVMEditor.Test\\bin\\Release\\net5.0\\output\\Answering\\reference/deformed_reference_mesh_{i+offset:03}.obj')\n",
    "    original_i = o3d.io.read_triangle_mesh(fr'G:\\VS2022Projects\\tvm-editing\\TVMEditor.Test\\bin\\Release\\net5.0\\Data\\answering_2000\\meshes/mesh_0{i+offset:03}.obj')\n",
    "\n",
    "    print(dynamic_deformed)\n",
    "    print(original_i)\n",
    "    dynamic_deformed.compute_vertex_normals()\n",
    "    original_i.compute_vertex_normals()\n",
    "    #o3d.visualization.draw_geometries([reconstruct_dancer_i])\n",
    "    fitting_mesh_dancer_i = subdivide_surface_fitting(dynamic_deformed, original_i, 1)\n",
    "    #print(np.array(fitting_mesh_dancer_i.triangles))\n",
    "    o3d.io.write_triangle_mesh(fr'G:\\VS2022Projects\\tvm-editing\\TVMEditor.Test\\bin\\Release\\net5.0\\output\\Answering\\reference/fitting_mesh_Answering_{i+offset:03}.obj', fitting_mesh_dancer_i, write_vertex_normals=False, write_vertex_colors=False, write_triangle_uvs=False)\n",
    "    #o3d.visualization.draw_geometries([fitting_mesh_dancer_i])"
   ],
   "id": "679255a34a6a468c",
   "outputs": [
    {
     "name": "stdout",
     "output_type": "stream",
     "text": [
      "TriangleMesh with 5819 points and 12000 triangles.\n",
      "TriangleMesh with 22752 points and 45212 triangles.\n",
      "TriangleMesh with 23900 points and 48000 triangles.\n",
      "[Open3D WARNING] Write OBJ can not include triangle normals.\n",
      "TriangleMesh with 5819 points and 12000 triangles.\n",
      "TriangleMesh with 22402 points and 44504 triangles.\n",
      "TriangleMesh with 23900 points and 48000 triangles.\n",
      "[Open3D WARNING] Write OBJ can not include triangle normals.\n",
      "TriangleMesh with 5819 points and 12000 triangles.\n",
      "TriangleMesh with 22632 points and 44982 triangles.\n",
      "TriangleMesh with 23900 points and 48000 triangles.\n",
      "[Open3D WARNING] Write OBJ can not include triangle normals.\n",
      "TriangleMesh with 5819 points and 12000 triangles.\n",
      "TriangleMesh with 22554 points and 44871 triangles.\n",
      "TriangleMesh with 23900 points and 48000 triangles.\n",
      "[Open3D WARNING] Write OBJ can not include triangle normals.\n",
      "TriangleMesh with 5819 points and 12000 triangles.\n",
      "TriangleMesh with 22083 points and 43881 triangles.\n",
      "TriangleMesh with 23900 points and 48000 triangles.\n",
      "[Open3D WARNING] Write OBJ can not include triangle normals.\n",
      "TriangleMesh with 5819 points and 12000 triangles.\n",
      "TriangleMesh with 23023 points and 45783 triangles.\n",
      "TriangleMesh with 23900 points and 48000 triangles.\n",
      "[Open3D WARNING] Write OBJ can not include triangle normals.\n",
      "TriangleMesh with 5819 points and 12000 triangles.\n",
      "TriangleMesh with 22840 points and 45415 triangles.\n",
      "TriangleMesh with 23900 points and 48000 triangles.\n",
      "[Open3D WARNING] Write OBJ can not include triangle normals.\n",
      "TriangleMesh with 5819 points and 12000 triangles.\n",
      "TriangleMesh with 22766 points and 45205 triangles.\n",
      "TriangleMesh with 23900 points and 48000 triangles.\n",
      "[Open3D WARNING] Write OBJ can not include triangle normals.\n",
      "TriangleMesh with 5819 points and 12000 triangles.\n",
      "TriangleMesh with 22784 points and 45282 triangles.\n",
      "TriangleMesh with 23900 points and 48000 triangles.\n",
      "[Open3D WARNING] Write OBJ can not include triangle normals.\n"
     ]
    }
   ],
   "execution_count": 38
  },
  {
   "metadata": {
    "ExecuteTime": {
     "end_time": "2025-01-13T23:06:05.265327Z",
     "start_time": "2025-01-13T23:06:05.237924Z"
    }
   },
   "cell_type": "code",
   "source": [
    "dataset = \"Answering\"\n",
    "loaded_decimated_reference_mesh = o3d.io.read_triangle_mesh(fr'G:\\VS2022Projects\\tvm-editing\\TVMEditor.Test\\bin\\Release\\net5.0\\Data\\answering_2000\\reference_mesh/decimated_reference_mesh.obj', enable_post_processing=False)\n",
    "print(loaded_decimated_reference_mesh)\n",
    "print(np.array(loaded_decimated_reference_mesh.triangles))\n",
    "loaded_decimated_reference_mesh_vertices = np.array(loaded_decimated_reference_mesh.vertices)\n",
    "loaded_decimated_reference_mesh_vertices"
   ],
   "id": "14db8e5c7c308fcf",
   "outputs": [
    {
     "name": "stdout",
     "output_type": "stream",
     "text": [
      "TriangleMesh with 5819 points and 12000 triangles.\n",
      "[[   0    1    2]\n",
      " [   1    3    2]\n",
      " [   3    4    2]\n",
      " ...\n",
      " [5422 5303 5525]\n",
      " [5302 5525 5303]\n",
      " [3887 1159 1158]]\n"
     ]
    },
    {
     "data": {
      "text/plain": [
       "array([[-0.69275898, -0.93006802, -1.81081009],\n",
       "       [-0.68782902, -0.87445998, -1.81029999],\n",
       "       [-0.67611402, -0.76023602, -1.76497006],\n",
       "       ...,\n",
       "       [-0.70194799,  0.58867902, -0.26358899],\n",
       "       [-0.20006099, -0.169802  ,  0.58835799],\n",
       "       [-0.64339399, -0.39764401,  0.274097  ]])"
      ]
     },
     "execution_count": 40,
     "metadata": {},
     "output_type": "execute_result"
    }
   ],
   "execution_count": 40
  },
  {
   "metadata": {
    "ExecuteTime": {
     "end_time": "2025-01-13T23:06:47.687064Z",
     "start_time": "2025-01-13T23:06:46.222771Z"
    }
   },
   "cell_type": "code",
   "source": [
    "dataset = \"Answering\"\n",
    "loaded_decimated_reference_mesh = o3d.io.read_triangle_mesh(fr'G:\\VS2022Projects\\tvm-editing\\TVMEditor.Test\\bin\\Release\\net5.0\\Data\\answering_2000\\reference_mesh/decimated_reference_mesh.obj', enable_post_processing=False)\n",
    "print(loaded_decimated_reference_mesh)\n",
    "loaded_decimated_reference_mesh_vertices = np.array(loaded_decimated_reference_mesh.vertices)\n",
    "subdivided_decimated_reference_mesh = o3d.geometry.TriangleMesh.subdivide_midpoint(loaded_decimated_reference_mesh, number_of_iterations=1)\n",
    "#print(subdivided_decimated_reference_mesh)\n",
    "subdivided_decimated_reference_mesh_vertices = np.array(subdivided_decimated_reference_mesh.vertices)\n",
    "#o3d.visualization.draw_geometries([subdivided_decimated_reference_mesh])\n",
    "displacements = []\n",
    "for i in range(0, 9):\n",
    "    offset = 1\n",
    "    fitting_mesh_dancer_i = read_triangle_mesh_with_trimesh(fr'G:\\VS2022Projects\\tvm-editing\\TVMEditor.Test\\bin\\Release\\net5.0\\output\\{dataset}\\reference/fitting_mesh_{dataset}_{i+offset:03}.obj', enable_post_processing=False)\n",
    "    #fitting_mesh_dancer_i = fitting_mesh_dancer[i]\n",
    "    print(fitting_mesh_dancer_i, subdivided_decimated_reference_mesh)\n",
    "    fitting_mesh_vertices = np.array(fitting_mesh_dancer_i.vertices)\n",
    "    #print(np.array(fitting_mesh_dancer_i.triangles))\n",
    "    displacement_i = fitting_mesh_vertices - subdivided_decimated_reference_mesh_vertices\n",
    "    np.savetxt(fr'G:\\VS2022Projects\\tvm-editing\\TVMEditor.Test\\bin\\Release\\net5.0\\output\\{dataset}\\reference/displacements_{dataset}_{i+offset:03}.txt', displacement_i, fmt='%8f')\n",
    "    displacements.append(displacement_i)\n",
    "\n"
   ],
   "id": "6062010e08cc0cb4",
   "outputs": [
    {
     "name": "stdout",
     "output_type": "stream",
     "text": [
      "TriangleMesh with 5819 points and 12000 triangles.\n",
      "TriangleMesh with 23900 points and 48000 triangles. TriangleMesh with 23900 points and 48000 triangles.\n",
      "TriangleMesh with 23900 points and 48000 triangles. TriangleMesh with 23900 points and 48000 triangles.\n",
      "TriangleMesh with 23900 points and 48000 triangles. TriangleMesh with 23900 points and 48000 triangles.\n",
      "TriangleMesh with 23900 points and 48000 triangles. TriangleMesh with 23900 points and 48000 triangles.\n",
      "TriangleMesh with 23900 points and 48000 triangles. TriangleMesh with 23900 points and 48000 triangles.\n",
      "TriangleMesh with 23900 points and 48000 triangles. TriangleMesh with 23900 points and 48000 triangles.\n",
      "TriangleMesh with 23900 points and 48000 triangles. TriangleMesh with 23900 points and 48000 triangles.\n",
      "TriangleMesh with 23900 points and 48000 triangles. TriangleMesh with 23900 points and 48000 triangles.\n",
      "TriangleMesh with 23900 points and 48000 triangles. TriangleMesh with 23900 points and 48000 triangles.\n"
     ]
    }
   ],
   "execution_count": 41
  },
  {
   "metadata": {
    "ExecuteTime": {
     "end_time": "2025-01-13T22:06:21.019674Z",
     "start_time": "2025-01-13T22:06:20.736465Z"
    }
   },
   "cell_type": "code",
   "source": [
    "for i in range(0, 9):\n",
    "    offset = 1\n",
    "    displacement = np.loadtxt(\n",
    "        fr'G:\\VS2022Projects\\tvm-editing\\TVMEditor.Test\\bin\\Release\\net5.0\\output\\Answering\\reference/displacements_{dataset}_{i + offset:03}.txt')\n",
    "    pcd = o3d.geometry.PointCloud()\n",
    "    points = displacement\n",
    "    pcd.points = o3d.utility.Vector3dVector(points)\n",
    "    print(pcd)\n",
    "    #o3d.io.write_point_cloud(r'G:\\VS2022Projects\\tvm-editing-master\\TVMEditor.Test\\bin\\Release\\net5.0\\Data\\Dancer\\reference_mesh/dis.ply', pcd)\n",
    "    points = np.asarray(pcd.points)\n",
    "    dtype = o3d.core.float32\n",
    "    p_tensor = o3d.core.Tensor(points, dtype=dtype)\n",
    "    pc = o3d.t.geometry.PointCloud(p_tensor)\n",
    "    o3d.t.io.write_point_cloud(\n",
    "        fr'G:\\VS2022Projects\\tvm-editing\\TVMEditor.Test\\bin\\Release\\net5.0\\Data\\{dataset}_2000\\reference_mesh/dis_{dataset}_{i + offset:03}.ply',\n",
    "        pc, write_ascii=True)"
   ],
   "id": "8088fb926bd7d8c5",
   "outputs": [
    {
     "name": "stdout",
     "output_type": "stream",
     "text": [
      "PointCloud with 23900 points.\n",
      "PointCloud with 23900 points.\n",
      "PointCloud with 23900 points.\n",
      "PointCloud with 23900 points.\n",
      "PointCloud with 23900 points.\n",
      "PointCloud with 23900 points.\n",
      "PointCloud with 23900 points.\n",
      "PointCloud with 23900 points.\n",
      "PointCloud with 23900 points.\n"
     ]
    }
   ],
   "execution_count": 24
  }
 ],
 "metadata": {
  "kernelspec": {
   "display_name": "Python 3",
   "language": "python",
   "name": "python3"
  },
  "language_info": {
   "codemirror_mode": {
    "name": "ipython",
    "version": 2
   },
   "file_extension": ".py",
   "mimetype": "text/x-python",
   "name": "python",
   "nbconvert_exporter": "python",
   "pygments_lexer": "ipython2",
   "version": "2.7.6"
  }
 },
 "nbformat": 4,
 "nbformat_minor": 5
}
